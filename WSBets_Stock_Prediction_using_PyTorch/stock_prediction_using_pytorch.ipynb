{
 "cells": [
  {
   "cell_type": "code",
   "execution_count": 1,
   "id": "38f3b8be-ba04-40ab-82f2-0343a57878e5",
   "metadata": {},
   "outputs": [],
   "source": [
    "from collections import deque\n",
    "\n",
    "import numpy as np\n",
    "import pandas as pd\n",
    "import matplotlib.pyplot as plt\n",
    "import os\n",
    "%matplotlib inline\n",
    "\n",
    "#pip install torchvision\n",
    "import torch\n",
    "from torch import nn\n",
    "from torch.utils.data import TensorDataset, DataLoader\n",
    "\n",
    "from sklearn.model_selection import train_test_split\n",
    "from sklearn import preprocessing\n",
    "\n",
    "#pip install yfinance\n",
    "import yfinance as yf\n",
    "\n",
    "import pandas as pd\n",
    "from pandas_datareader import data as pdr\n",
    "\n",
    "yf.pdr_override()"
   ]
  },
  {
   "cell_type": "code",
   "execution_count": 2,
   "id": "a647822b-f335-4b9a-bb50-5861c74ce328",
   "metadata": {
    "jupyter": {
     "source_hidden": true
    },
    "tags": []
   },
   "outputs": [],
   "source": [
    "if not os.path.isdir(\"results\"):\n",
    "    os.mkdir(\"results\")\n",
    "if not os.path.isdir(\"logs\"):\n",
    "    os.mkdir(\"logs\")\n",
    "if not os.path.isdir(\"data\"):\n",
    "    os.mkdir(\"data\")"
   ]
  },
  {
   "cell_type": "code",
   "execution_count": 3,
   "id": "8f09f356-151b-41f4-bdc7-83c80bf7c278",
   "metadata": {
    "jupyter": {
     "source_hidden": true
    },
    "tags": []
   },
   "outputs": [],
   "source": [
    "def fetch_tickers(tickers):\n",
    "  yf_df = pdr.get_data_yahoo(tickers)\n",
    "  for ticker in tickers:\n",
    "    yf_df.index = yf_df.index.map(str)\n",
    "    ticker_df = yf_df.T.loc[(slice(None), ticker),:].swaplevel(i=0,j=1).xs(ticker, level=0).T.dropna(how='all')\n",
    "    ticker_df.to_csv('data/' + ticker + '.csv')"
   ]
  },
  {
   "cell_type": "code",
   "execution_count": 4,
   "id": "e40cfa75-8df0-49da-9be2-1be7cdbb48af",
   "metadata": {
    "jupyter": {
     "source_hidden": true
    },
    "tags": []
   },
   "outputs": [],
   "source": [
    "def get_column_scalers(ticker_df, selected_features):\n",
    "  column_scaler = {}\n",
    "  for column in selected_features:\n",
    "    scaler = preprocessing.MinMaxScaler()\n",
    "    ticker_df[column] = scaler.fit_transform(np.expand_dims(ticker_df[column].values, axis=1))\n",
    "    column_scaler[column] = scaler\n",
    "  return column_scaler, ticker_df"
   ]
  },
  {
   "cell_type": "code",
   "execution_count": 5,
   "id": "4575a32b-7ae0-4a60-99fd-d7d9e7ce202a",
   "metadata": {
    "jupyter": {
     "source_hidden": true
    },
    "tags": []
   },
   "outputs": [],
   "source": [
    "def get_sequences(ticker_df, selected_features, label,n_steps=50, lookup_step=1):\n",
    "  last_sequence = np.array(ticker_df[selected_features].tail(lookup_step))\n",
    "  ticker_df.dropna(inplace=True)\n",
    "  sequence_data = []\n",
    "  sequences = deque(maxlen=n_steps)\n",
    "  for entry, target in zip(ticker_df[selected_features].values, ticker_df[label].values):\n",
    "    sequences.append(entry)\n",
    "    if len(sequences) == n_steps:\n",
    "      sequence_data.append([np.array(sequences), target])\n",
    "  last_sequence = list(sequences) + list(last_sequence)\n",
    "  last_sequence = np.array(last_sequence)\n",
    "  return last_sequence, sequence_data"
   ]
  },
  {
   "cell_type": "code",
   "execution_count": 6,
   "id": "b6143be6-d592-48ef-bfef-6ea9c7775250",
   "metadata": {
    "jupyter": {
     "source_hidden": true
    },
    "tags": []
   },
   "outputs": [],
   "source": [
    "def get_train_test_split(sequence_data, shuffle=False, test_size=0.2):\n",
    "  X, y = [], []\n",
    "  for seq, target in sequence_data:\n",
    "    X.append(seq)\n",
    "    y.append(target)\n",
    "  X = np.array(X)\n",
    "  y = np.array(y)\n",
    "  X = X.reshape((X.shape[0], X.shape[1], X.shape[2]))\n",
    "  return train_test_split(X, y, test_size=test_size, shuffle=shuffle)"
   ]
  },
  {
   "cell_type": "code",
   "execution_count": 7,
   "id": "a51b4af7-4586-4d6a-80f0-3c2031987bd1",
   "metadata": {},
   "outputs": [],
   "source": [
    "def get_data(ticker, n_steps=50, scale=True, shuffle=False, lookup_step=1, test_size=0.2,\n",
    "             selected_features = ['Adj Close', 'Open', 'High', 'Low', 'Volume']):\n",
    "  ticker_df = pd.read_csv('data/' + ticker + '.csv')[-2000:]\n",
    "  label = 'Future'\n",
    "  ticker_df.dropna(inplace=True)\n",
    "\n",
    "  result = {}\n",
    "  result['column_scaler'], ticker_df = get_column_scalers(ticker_df, selected_features)\n",
    "  ticker_df[label] = ticker_df['Adj Close'].shift(-lookup_step)\n",
    "  result['last_sequence'], sequence_data = get_sequences(ticker_df, selected_features, label)\n",
    "  result[\"X_train\"], result[\"X_test\"], result[\"y_train\"], result[\"y_test\"] = get_train_test_split(sequence_data)\n",
    "  return result"
   ]
  },
  {
   "cell_type": "code",
   "execution_count": 10,
   "id": "918aa8be-9683-439e-9c3e-003d04e70b9e",
   "metadata": {
    "collapsed": true,
    "jupyter": {
     "outputs_hidden": true,
     "source_hidden": true
    },
    "tags": []
   },
   "outputs": [
    {
     "name": "stdout",
     "output_type": "stream",
     "text": [
      "[*********************100%***********************]  3 of 3 completed\n",
      "\n",
      "1 Failed download:\n",
      "- APPL: 1d data not available for startTime=-2208988800 and endTime=1626062741. Only 100 years worth of day granularity data are allowed to be fetched per request.\n"
     ]
    }
   ],
   "source": [
    "tickers = ['GME', 'APPL', 'TSLA']\n",
    "fetch_tickers(tickers)"
   ]
  },
  {
   "cell_type": "code",
   "execution_count": 11,
   "id": "67b80d21-dc30-4c03-a080-adc0a5111784",
   "metadata": {},
   "outputs": [],
   "source": [
    "data = get_data('GME')\n",
    "X_train = data['X_train']\n",
    "y_train = data['y_train']\n",
    "X_test = data['X_test']\n",
    "y_test = data['y_test']"
   ]
  },
  {
   "cell_type": "code",
   "execution_count": 12,
   "id": "afcf61a1-bdb1-4679-ad1e-5a901ffad09c",
   "metadata": {},
   "outputs": [],
   "source": [
    "def try_gpu(i=0):\n",
    "    if torch.cuda.device_count() >= i + 1:\n",
    "        return torch.device(f'cuda:{i}')\n",
    "    return torch.device('cpu')"
   ]
  },
  {
   "cell_type": "code",
   "execution_count": 13,
   "id": "57b1d72e-2ab4-4812-99fe-e183b5d17ca2",
   "metadata": {},
   "outputs": [],
   "source": [
    "class LSTM(nn.Module):\n",
    "    def __init__(self, num_features=5, hidden_layer_size=512, output_size=1, num_layers=1,batch_size=64):\n",
    "        super(LSTM, self).__init__()\n",
    "        self.batch_size = batch_size\n",
    "        self.num_features = num_features\n",
    "        self.hidden_layer_size = hidden_layer_size\n",
    "        self.output_size = output_size\n",
    "        self.num_layers = num_layers\n",
    "\n",
    "        self.lstm = nn.LSTM(self.num_features, self.hidden_layer_size, self.num_layers, bidirectional=True, batch_first=True)\n",
    "\n",
    "        self.linear = nn.Linear(2*hidden_layer_size, self.output_size)\n",
    "        \n",
    "        \n",
    "    def init_hidden(self):\n",
    "        return (torch.zeros(self.num_layers*2, self.batch_size, self.hidden_layer_size).to(try_gpu()),\n",
    "                torch.zeros(self.num_layers*2, self.batch_size, self.hidden_layer_size).to(try_gpu()))\n",
    "        \n",
    "\n",
    "    def forward(self, input_seq):\n",
    "        lstm_out, _ = self.lstm(input_seq)\n",
    "        predictions = self.linear(lstm_out[:, -1, :])\n",
    "        return predictions"
   ]
  },
  {
   "cell_type": "code",
   "execution_count": 14,
   "id": "d4939f84-a71c-4830-9722-7d623c2d20d0",
   "metadata": {},
   "outputs": [
    {
     "name": "stdout",
     "output_type": "stream",
     "text": [
      "epoch:   0 loss: 0.00001689\n",
      "epoch:   1 loss: 0.00001206\n",
      "epoch:   2 loss: 0.00004763\n",
      "epoch:   3 loss: 0.00017878\n",
      "epoch:   4 loss: 0.00013868\n",
      "epoch:   5 loss: 0.00002661\n",
      "epoch:   6 loss: 0.00000509\n",
      "epoch:   7 loss: 0.00000093\n",
      "epoch:   8 loss: 0.00000286\n",
      "epoch:   9 loss: 0.00000174\n"
     ]
    }
   ],
   "source": [
    "X_train = torch.Tensor(X_train)\n",
    "y_train = torch.Tensor(y_train)\n",
    "\n",
    "X_test = torch.Tensor(X_test)\n",
    "y_test = torch.Tensor(y_test)\n",
    "\n",
    "dataset_train = TensorDataset(X_train, y_train)\n",
    "data_loader_train = DataLoader(dataset_train, batch_size=64)\n",
    "\n",
    "dataset_test = TensorDataset(X_test, y_test)\n",
    "data_loader_test = DataLoader(dataset_test, batch_size=64)\n",
    "\n",
    "model = LSTM().to(try_gpu())\n",
    "model.hidden = model.init_hidden()\n",
    "\n",
    "loss_function = nn.SmoothL1Loss()\n",
    "optimizer = torch.optim.Adam(model.parameters(), lr=0.001)\n",
    "\n",
    "epochs = 10\n",
    "\n",
    "for i in range(epochs):\n",
    "    for seq, label in data_loader_train:\n",
    "        seq = seq.to(try_gpu())\n",
    "        label = label.view(-1,1).to(try_gpu())\n",
    "        optimizer.zero_grad()\n",
    "        \n",
    "        y_pred = model(seq)\n",
    "        single_loss = loss_function(y_pred, label)\n",
    "        single_loss.backward()\n",
    "\n",
    "        optimizer.step()\n",
    "    torch.save(optimizer.state_dict(), os.path.join(\"results\", \"optimizer\") + \".pth\")\n",
    "    torch.save(model.state_dict(), os.path.join(\"results\", \"model\") + \".pth\")\n",
    "\n",
    "    print(f'epoch: {i:3} loss: {single_loss.item():10.8f}')"
   ]
  },
  {
   "cell_type": "code",
   "execution_count": 15,
   "id": "8c4e0f04-a589-46dc-aab0-6c8b61d13587",
   "metadata": {},
   "outputs": [],
   "source": [
    "def plot_graph(data, mode):\n",
    "  if mode == \"TEST\":\n",
    "    y_actual = data[\"y_test\"]\n",
    "  else:\n",
    "    y_actual = data['y_train']\n",
    "\n",
    "  \n",
    "  y_actual = np.squeeze(data[\"column_scaler\"][\"Adj Close\"].inverse_transform(np.expand_dims(y_actual, axis=0)))\n",
    "  \n",
    "  y_pred = np.empty(1)\n",
    "  if mode == \"TRAIN\":\n",
    "    for seq, label in data_loader_train:\n",
    "      optimizer.zero_grad()\n",
    "      seq = seq.to(try_gpu())\n",
    "      y_pred = np.concatenate((y_pred, predict(seq, data).squeeze()), axis=0)\n",
    "  else:\n",
    "    for seq, label in data_loader_test:\n",
    "      optimizer.zero_grad()\n",
    "      seq = seq.to(try_gpu())\n",
    "      y_pred = np.concatenate((y_pred, predict(seq, data).squeeze()), axis=0)\n",
    "\n",
    "  plt.plot(y_actual[1:], c='b')\n",
    "  plt.plot(y_pred[1:], c='r')\n",
    "  plt.xlabel(\"Days\")\n",
    "  plt.ylabel(\"Price\")\n",
    "  plt.legend([\"Actual Price\", \"Predicted Price\"])\n",
    "  plt.show()"
   ]
  },
  {
   "cell_type": "code",
   "execution_count": 16,
   "id": "bf3a324c-dc61-4e5a-93e0-8b3ac9515583",
   "metadata": {},
   "outputs": [],
   "source": [
    "def predict(seq, data):\n",
    "  model = LSTM().to(try_gpu())\n",
    "  model.load_state_dict(torch.load(os.path.join(\"results\", \"model\") + \".pth\"))\n",
    "  model.eval()\n",
    "  output = model(seq)\n",
    "  N_STEPS = 50\n",
    "  last_sequence = data[\"last_sequence\"][-N_STEPS:]\n",
    "  column_scaler = data[\"column_scaler\"]\n",
    "  last_sequence = last_sequence.reshape((last_sequence.shape[1], last_sequence.shape[0]))\n",
    "  \n",
    "  # expand dimension\n",
    "  last_sequence = np.expand_dims(last_sequence, axis=0)\n",
    "  # get the price (by inverting the scaling)\n",
    "  predicted_price = column_scaler[\"Adj Close\"].inverse_transform(output.cpu().detach().numpy())\n",
    "  \n",
    "  return predicted_price"
   ]
  },
  {
   "cell_type": "code",
   "execution_count": 17,
   "id": "f9e350d4-94af-4652-8f3d-d2f3cf518ac3",
   "metadata": {},
   "outputs": [
    {
     "data": {
      "image/png": "[encoded data removed]",
      "text/plain": [
       "<Figure size 432x288 with 1 Axes>"
      ]
     },
     "metadata": {
      "needs_background": "light"
     },
     "output_type": "display_data"
    }
   ],
   "source": [
    "model.eval()\n",
    "plot_graph(data, \"TRAIN\")"
   ]
  },
  {
   "cell_type": "code",
   "execution_count": 18,
   "id": "b13a0431-0325-4c5d-b758-a98859af58b6",
   "metadata": {},
   "outputs": [
    {
     "data": {
      "image/png": "[encoded data removed]",
      "text/plain": [
       "<Figure size 432x288 with 1 Axes>"
      ]
     },
     "metadata": {
      "needs_background": "light"
     },
     "output_type": "display_data"
    }
   ],
   "source": [
    "model.eval()\n",
    "plot_graph(data, \"TEST\")"
   ]
  },
  {
   "cell_type": "code",
   "execution_count": null,
   "id": "17235696-2604-4cd6-882c-09a11c5b8253",
   "metadata": {},
   "outputs": [],
   "source": []
  }
 ],
 "metadata": {
  "kernelspec": {
   "display_name": "Python 3",
   "language": "python",
   "name": "python3"
  },
  "language_info": {
   "codemirror_mode": {
    "name": "ipython",
    "version": 3
   },
   "file_extension": ".py",
   "mimetype": "text/x-python",
   "name": "python",
   "nbconvert_exporter": "python",
   "pygments_lexer": "ipython3",
   "version": "3.8.5"
  }
 },
 "nbformat": 4,
 "nbformat_minor": 5
}
