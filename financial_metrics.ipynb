{
 "cells": [
  {
   "cell_type": "code",
   "execution_count": 28,
   "metadata": {},
   "outputs": [],
   "source": [
    "# Initial Imports\n",
    "import os\n",
    "import pandas as pd\n",
    "from pathlib import Path\n",
    "import yfinance as yf"
   ]
  },
  {
   "cell_type": "code",
   "execution_count": 78,
   "metadata": {},
   "outputs": [],
   "source": [
    "# Create Yahoo Finance Ticker Objects\n",
    "gme = yf.Ticker(\"GME\")\n",
    "amc = yf.Ticker(\"AMC\")\n",
    "bbby = yf.Ticker(\"BBBY\")\n",
    "nakd = yf.Ticker(\"NAKD\")"
   ]
  },
  {
   "cell_type": "code",
   "execution_count": 36,
   "metadata": {},
   "outputs": [],
   "source": [
    "# Pull Full Price History\n",
    "gme_hist = gme.history(period=\"max\")\n",
    "amc_hist = amc.history(period=\"max\")\n",
    "bbby_hist = bbby.history(period=\"max\")\n",
    "nakd_hist = nakd.history(period=\"max\")"
   ]
  },
  {
   "cell_type": "code",
   "execution_count": 33,
   "metadata": {},
   "outputs": [],
   "source": [
    "# Save Price History to CSV\n",
    "gme_hist.to_csv('./gme_hist.csv')\n",
    "amc_hist.to_csv('./amc_hist.csv')\n",
    "bbby_hist.to_csv('./bbby_hist.csv')\n",
    "nakd_hist.to_csv('./nakd_hist.csv')"
   ]
  },
  {
   "cell_type": "code",
   "execution_count": 69,
   "metadata": {},
   "outputs": [],
   "source": [
    "# Drop Unnecessary Columns \n",
    "gme_hist.drop(columns=['Open','High','Low','Dividends','Stock Splits'],inplace=True)\n",
    "amc_hist.drop(columns=['Open','High','Low','Dividends','Stock Splits'],inplace=True)\n",
    "bbby_hist.drop(columns=['Open','High','Low','Dividends','Stock Splits'],inplace=True)\n",
    "nakd_hist.drop(columns=['Open','High','Low','Dividends','Stock Splits'],inplace=True)"
   ]
  },
  {
   "cell_type": "code",
   "execution_count": 47,
   "metadata": {},
   "outputs": [],
   "source": [
    "# 30-Day Rolling Standard Deviation\n",
    "gme_hist['30-Day Rolling STD'] = gme_hist['Close'].rolling(window=30).std()\n",
    "amc_hist['30-Day Rolling STD'] = amc_hist['Close'].rolling(window=30).std()\n",
    "bbby_hist['30-Day Rolling STD'] = bbby_hist['Close'].rolling(window=30).std()\n",
    "nakd_hist['30-Day Rolling STD'] = nakd_hist['Close'].rolling(window=30).std()"
   ]
  },
  {
   "cell_type": "code",
   "execution_count": 48,
   "metadata": {},
   "outputs": [],
   "source": [
    "# 30-Day Rolling Simple Moving Average\n",
    "gme_hist['30-Day Rolling SMA'] = gme_hist['Close'].rolling(window=30).mean()\n",
    "amc_hist['30-Day Rolling SMA'] = amc_hist['Close'].rolling(window=30).mean()\n",
    "bbby_hist['30-Day Rolling SMA'] = bbby_hist['Close'].rolling(window=30).mean()\n",
    "nakd_hist['30-Day Rolling SMA'] = nakd_hist['Close'].rolling(window=30).mean()"
   ]
  },
  {
   "cell_type": "code",
   "execution_count": 49,
   "metadata": {},
   "outputs": [],
   "source": [
    "# 30-Day Rolling Exponentially Weighted Moving Average\n",
    "gme_hist['30-Day Rolling EWMA'] = gme_hist['Close'].ewm(halflife=30).mean()\n",
    "amc_hist['30-Day Rolling EWMA'] = amc_hist['Close'].ewm(halflife=30).mean()\n",
    "bbby_hist['30-Day Rolling EWMA'] = bbby_hist['Close'].ewm(halflife=30).mean()\n",
    "nakd_hist['30-Day Rolling EWMA'] = nakd_hist['Close'].ewm(halflife=30).mean()"
   ]
  },
  {
   "cell_type": "code",
   "execution_count": 71,
   "metadata": {},
   "outputs": [],
   "source": [
    "# Calculate Relative Strength Index\n",
    "gme_delta = gme_hist['Close'].diff()\n",
    "gme_up = gme_delta.clip(lower=0)\n",
    "gme_down = gme_delta.clip(upper=0) * -1\n",
    "gme_ema_up = gme_up.ewm(com=13, adjust=False).mean()\n",
    "gme_ema_down = gme_down.ewm(com=13, adjust=False).mean()\n",
    "gme_rs = ema_up / ema_down\n",
    "gme_hist['RSI'] = 100 - (100/(1 + gme_rs))\n",
    "\n",
    "amc_delta = amc_hist['Close'].diff()\n",
    "amc_up = amc_delta.clip(lower=0)\n",
    "amc_down = amc_delta.clip(upper=0) * -1\n",
    "amc_ema_up = amc_up.ewm(com=13, adjust=False).mean()\n",
    "amc_ema_down = amc_down.ewm(com=13, adjust=False).mean()\n",
    "amc_rs = ema_up / ema_down\n",
    "amc_hist['RSI'] = 100 - (100/(1 + amc_rs))\n",
    "\n",
    "bbby_delta = bbby_hist['Close'].diff()\n",
    "bbby_up = bbby_delta.clip(lower=0)\n",
    "bbby_down = bbby_delta.clip(upper=0) * -1\n",
    "bbby_ema_up = bbby_up.ewm(com=13, adjust=False).mean()\n",
    "bbby_ema_down = bbby_down.ewm(com=13, adjust=False).mean()\n",
    "bbby_rs = ema_up / ema_down\n",
    "bbby_hist['RSI'] = 100 - (100/(1 + bbby_rs))\n",
    "\n",
    "nakd_delta = nakd_hist['Close'].diff()\n",
    "nakd_up = nakd_delta.clip(lower=0)\n",
    "nakd_down = nakd_delta.clip(upper=0) * -1\n",
    "nakd_ema_up = nakd_up.ewm(com=13, adjust=False).mean()\n",
    "nakd_ema_down = nakd_down.ewm(com=13, adjust=False).mean()\n",
    "nakd_rs = ema_up / ema_down\n",
    "nakd_hist['RSI'] = 100 - (100/(1 + nakd_rs))"
   ]
  },
  {
   "cell_type": "code",
   "execution_count": 75,
   "metadata": {},
   "outputs": [],
   "source": [
    "# Calculate MACD\n",
    "gme_ewm12 = gme_hist['Close'].ewm(span=12, adjust=False).mean()\n",
    "gme_ewm26 = gme_hist['Close'].ewm(span=26, adjust=False).mean()\n",
    "gme_hist['MACD'] = gme_ewm12 - gme_ewm26\n",
    "\n",
    "amc_ewm12 = amc_hist['Close'].ewm(span=12, adjust=False).mean()\n",
    "amc_ewm26 = amc_hist['Close'].ewm(span=26, adjust=False).mean()\n",
    "amc_hist['MACD'] = amc_ewm12 - amc_ewm26\n",
    "\n",
    "bbby_ewm12 = bbby_hist['Close'].ewm(span=12, adjust=False).mean()\n",
    "bbby_ewm26 = bbby_hist['Close'].ewm(span=26, adjust=False).mean()\n",
    "bbby_hist['MACD'] = bbby_ewm12 - bbby_ewm26\n",
    "\n",
    "nakd_ewm12 = nakd_hist['Close'].ewm(span=12, adjust=False).mean()\n",
    "nakd_ewm26 = nakd_hist['Close'].ewm(span=26, adjust=False).mean()\n",
    "nakd_hist['MACD'] = nakd_ewm12 - nakd_ewm26"
   ]
  },
  {
   "cell_type": "code",
   "execution_count": 79,
   "metadata": {},
   "outputs": [],
   "source": [
    "# Take Data from Past Year\n",
    "gme_1Y = gme_hist['2020-07-01':'2021-06-30']\n",
    "amc_1Y = amc_hist['2020-07-01':'2021-06-30']\n",
    "bbby_1Y = bbby_hist['2020-07-01':'2021-06-30']\n",
    "nakd_1Y = nakd_hist['2020-07-01':'2021-06-30']"
   ]
  }
 ],
 "metadata": {
  "kernelspec": {
   "display_name": "Python 3",
   "language": "python",
   "name": "python3"
  },
  "language_info": {
   "codemirror_mode": {
    "name": "ipython",
    "version": 3
   },
   "file_extension": ".py",
   "mimetype": "text/x-python",
   "name": "python",
   "nbconvert_exporter": "python",
   "pygments_lexer": "ipython3",
   "version": "3.7.7"
  }
 },
 "nbformat": 4,
 "nbformat_minor": 4
}
