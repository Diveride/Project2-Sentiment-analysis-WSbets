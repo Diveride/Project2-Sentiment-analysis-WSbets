{
 "cells": [
  {
   "cell_type": "code",
   "execution_count": 1,
   "metadata": {},
   "outputs": [],
   "source": [
    "# Initial Imports\n",
    "import os\n",
    "import datetime as dt\n",
    "import numpy as np\n",
    "import pandas as pd\n",
    "from pathlib import Path\n",
    "import yfinance as yf\n",
    "from sklearn.preprocessing import MinMaxScaler\n",
    "from sklearn.linear_model import LinearRegression\n",
    "from sklearn.metrics import mean_squared_error"
   ]
  },
  {
   "cell_type": "code",
   "execution_count": 2,
   "metadata": {},
   "outputs": [],
   "source": [
    "# Create Yahoo Finance Ticker Objects\n",
    "aapl = yf.Ticker(\"AAPL\")\n",
    "msft = yf.Ticker(\"MSFT\")\n",
    "amzn = yf.Ticker(\"AMZN\")\n",
    "uber = yf.Ticker(\"UBER\")"
   ]
  },
  {
   "cell_type": "code",
   "execution_count": 3,
   "metadata": {},
   "outputs": [],
   "source": [
    "# Pull Full Price History\n",
    "aapl_hist = aapl.history(period=\"max\")\n",
    "msft_hist = msft.history(period=\"max\")\n",
    "amzn_hist = amzn.history(period=\"max\")\n",
    "uber_hist = uber.history(period=\"max\")"
   ]
  },
  {
   "cell_type": "code",
   "execution_count": 4,
   "metadata": {},
   "outputs": [],
   "source": [
    "# Save Price History to CSV\n",
    "aapl_hist.to_csv('./aapl_hist.csv')\n",
    "msft_hist.to_csv('./msft_hist.csv')\n",
    "amzn_hist.to_csv('./amzn_hist.csv')\n",
    "uber_hist.to_csv('./uber_hist.csv')"
   ]
  },
  {
   "cell_type": "code",
   "execution_count": 5,
   "metadata": {},
   "outputs": [],
   "source": [
    "# Drop Unnecessary Columns \n",
    "aapl_hist.drop(columns=['Open','High','Low','Dividends','Stock Splits'],inplace=True)\n",
    "msft_hist.drop(columns=['Open','High','Low','Dividends','Stock Splits'],inplace=True)\n",
    "amzn_hist.drop(columns=['Open','High','Low','Dividends','Stock Splits'],inplace=True)\n",
    "uber_hist.drop(columns=['Open','High','Low','Dividends','Stock Splits'],inplace=True)"
   ]
  },
  {
   "cell_type": "code",
   "execution_count": 6,
   "metadata": {},
   "outputs": [],
   "source": [
    "# 30-Day Rolling Standard Deviation\n",
    "aapl_hist['30-Day Rolling STD'] = aapl_hist['Close'].rolling(window=30).std()\n",
    "msft_hist['30-Day Rolling STD'] = msft_hist['Close'].rolling(window=30).std()\n",
    "amzn_hist['30-Day Rolling STD'] = amzn_hist['Close'].rolling(window=30).std()\n",
    "uber_hist['30-Day Rolling STD'] = uber_hist['Close'].rolling(window=30).std()"
   ]
  },
  {
   "cell_type": "code",
   "execution_count": 7,
   "metadata": {},
   "outputs": [],
   "source": [
    "# 30-Day Rolling Simple Moving Average\n",
    "aapl_hist['30-Day Rolling SMA'] = aapl_hist['Close'].rolling(window=30).mean()\n",
    "msft_hist['30-Day Rolling SMA'] = msft_hist['Close'].rolling(window=30).mean()\n",
    "amzn_hist['30-Day Rolling SMA'] = amzn_hist['Close'].rolling(window=30).mean()\n",
    "uber_hist['30-Day Rolling SMA'] = uber_hist['Close'].rolling(window=30).mean()"
   ]
  },
  {
   "cell_type": "code",
   "execution_count": 8,
   "metadata": {},
   "outputs": [],
   "source": [
    "# 30-Day Rolling Exponentially Weighted Moving Average\n",
    "aapl_hist['30-Day Rolling EWMA'] = aapl_hist['Close'].ewm(halflife=30).mean()\n",
    "msft_hist['30-Day Rolling EWMA'] = msft_hist['Close'].ewm(halflife=30).mean()\n",
    "amzn_hist['30-Day Rolling EWMA'] = amzn_hist['Close'].ewm(halflife=30).mean()\n",
    "uber_hist['30-Day Rolling EWMA'] = uber_hist['Close'].ewm(halflife=30).mean()"
   ]
  },
  {
   "cell_type": "code",
   "execution_count": 9,
   "metadata": {},
   "outputs": [],
   "source": [
    "# Calculate Relative Strength Index\n",
    "aapl_delta = aapl_hist['Close'].diff()\n",
    "aapl_up = aapl_delta.clip(lower=0)\n",
    "aapl_down = aapl_delta.clip(upper=0) * -1\n",
    "aapl_ema_up = aapl_up.ewm(com=13, adjust=False).mean()\n",
    "aapl_ema_down = aapl_down.ewm(com=13, adjust=False).mean()\n",
    "aapl_rs = aapl_ema_up / aapl_ema_down\n",
    "aapl_hist['RSI'] = 100 - (100/(1 + aapl_rs))\n",
    "\n",
    "msft_delta = msft_hist['Close'].diff()\n",
    "msft_up = msft_delta.clip(lower=0)\n",
    "msft_down = msft_delta.clip(upper=0) * -1\n",
    "msft_ema_up = msft_up.ewm(com=13, adjust=False).mean()\n",
    "msft_ema_down = msft_down.ewm(com=13, adjust=False).mean()\n",
    "msft_rs = msft_ema_up / msft_ema_down\n",
    "msft_hist['RSI'] = 100 - (100/(1 + msft_rs))\n",
    "\n",
    "amzn_delta = amzn_hist['Close'].diff()\n",
    "amzn_up = amzn_delta.clip(lower=0)\n",
    "amzn_down = amzn_delta.clip(upper=0) * -1\n",
    "amzn_ema_up = amzn_up.ewm(com=13, adjust=False).mean()\n",
    "amzn_ema_down = amzn_down.ewm(com=13, adjust=False).mean()\n",
    "amzn_rs = amzn_ema_up / amzn_ema_down\n",
    "amzn_hist['RSI'] = 100 - (100/(1 + amzn_rs))\n",
    "\n",
    "uber_delta = uber_hist['Close'].diff()\n",
    "uber_up = uber_delta.clip(lower=0)\n",
    "uber_down = uber_delta.clip(upper=0) * -1\n",
    "uber_ema_up = uber_up.ewm(com=13, adjust=False).mean()\n",
    "uber_ema_down = uber_down.ewm(com=13, adjust=False).mean()\n",
    "uber_rs = uber_ema_up / uber_ema_down\n",
    "uber_hist['RSI'] = 100 - (100/(1 + uber_rs))"
   ]
  },
  {
   "cell_type": "code",
   "execution_count": 10,
   "metadata": {},
   "outputs": [],
   "source": [
    "# Calculate MACD\n",
    "aapl_ewm12 = aapl_hist['Close'].ewm(span=12, adjust=False).mean()\n",
    "aapl_ewm26 = aapl_hist['Close'].ewm(span=26, adjust=False).mean()\n",
    "aapl_hist['MACD'] = aapl_ewm12 - aapl_ewm26\n",
    "\n",
    "msft_ewm12 = msft_hist['Close'].ewm(span=12, adjust=False).mean()\n",
    "msft_ewm26 = msft_hist['Close'].ewm(span=26, adjust=False).mean()\n",
    "msft_hist['MACD'] = msft_ewm12 - msft_ewm26\n",
    "\n",
    "amzn_ewm12 = amzn_hist['Close'].ewm(span=12, adjust=False).mean()\n",
    "amzn_ewm26 = amzn_hist['Close'].ewm(span=26, adjust=False).mean()\n",
    "amzn_hist['MACD'] = amzn_ewm12 - amzn_ewm26\n",
    "\n",
    "uber_ewm12 = uber_hist['Close'].ewm(span=12, adjust=False).mean()\n",
    "uber_ewm26 = uber_hist['Close'].ewm(span=26, adjust=False).mean()\n",
    "uber_hist['MACD'] = uber_ewm12 - uber_ewm26"
   ]
  },
  {
   "cell_type": "code",
   "execution_count": 11,
   "metadata": {},
   "outputs": [],
   "source": [
    "# Take Data from Past Year\n",
    "aapl_1Y = aapl_hist['2020-07-01':'2021-06-30'].copy()\n",
    "msft_1Y = msft_hist['2020-07-01':'2021-06-30'].copy()\n",
    "amzn_1Y = amzn_hist['2020-07-01':'2021-06-30'].copy()\n",
    "uber_1Y = uber_hist['2020-07-01':'2021-06-30'].copy()"
   ]
  },
  {
   "cell_type": "code",
   "execution_count": 12,
   "metadata": {},
   "outputs": [],
   "source": [
    "# Drop Nulls\n",
    "aapl_1Y.dropna(inplace=True)\n",
    "msft_1Y.dropna(inplace=True)\n",
    "amzn_1Y.dropna(inplace=True)\n",
    "uber_1Y.dropna(inplace=True)"
   ]
  },
  {
   "cell_type": "markdown",
   "metadata": {},
   "source": [
    "## AAPL"
   ]
  },
  {
   "cell_type": "code",
   "execution_count": 13,
   "metadata": {},
   "outputs": [],
   "source": [
    "# Set Features and Target\n",
    "X = aapl_1Y.drop(columns=['Close'], axis=1).copy()\n",
    "y = aapl_1Y['Close'].to_frame()"
   ]
  },
  {
   "cell_type": "code",
   "execution_count": 14,
   "metadata": {},
   "outputs": [],
   "source": [
    "# Split Into Train and Test\n",
    "X_train = X['2020-07-01':'2021-03-31'].copy()\n",
    "X_test = X['2021-04-01':'2021-06-30'].copy()\n",
    "y_train = y['2020-07-01':'2021-03-31'].copy()\n",
    "y_test = y['2021-04-01':'2021-06-30'].copy()"
   ]
  },
  {
   "cell_type": "code",
   "execution_count": 15,
   "metadata": {},
   "outputs": [],
   "source": [
    "# Create the MinMaxScaler instance\n",
    "scaler = MinMaxScaler()"
   ]
  },
  {
   "cell_type": "code",
   "execution_count": 16,
   "metadata": {},
   "outputs": [],
   "source": [
    "# Fit the Standard Scaler with the training data\n",
    "X_scaler = scaler.fit(X_train)"
   ]
  },
  {
   "cell_type": "code",
   "execution_count": 17,
   "metadata": {},
   "outputs": [],
   "source": [
    "# Scale the training and testing data\n",
    "X_train_scaled = X_scaler.transform(X_train)\n",
    "X_test_scaled = X_scaler.transform(X_test)"
   ]
  },
  {
   "cell_type": "code",
   "execution_count": 18,
   "metadata": {},
   "outputs": [],
   "source": [
    "# Initialize model, fit model to training data, create predictions for test features\n",
    "model = LinearRegression()\n",
    "model.fit(X_train_scaled, y_train)\n",
    "predictions = model.predict(X_test_scaled)"
   ]
  },
  {
   "cell_type": "code",
   "execution_count": 19,
   "metadata": {},
   "outputs": [
    {
     "data": {
      "text/plain": [
       "<AxesSubplot:title={'center':'AAPL'}, xlabel='Date'>"
      ]
     },
     "execution_count": 19,
     "metadata": {},
     "output_type": "execute_result"
    },
    {
     "data": {
      "image/png": "[encoded data removed]",
      "text/plain": [
       "<Figure size 432x288 with 1 Axes>"
      ]
     },
     "metadata": {
      "needs_background": "light"
     },
     "output_type": "display_data"
    }
   ],
   "source": [
    "# Plot Results\n",
    "results = y_test\n",
    "results['Predicted Close'] = predictions\n",
    "results.plot(title='AAPL')"
   ]
  },
  {
   "cell_type": "code",
   "execution_count": 20,
   "metadata": {},
   "outputs": [
    {
     "name": "stdout",
     "output_type": "stream",
     "text": [
      "Out-of-Sample Root Mean Squared Error (RMSE): 1.6272090348156776\n"
     ]
    }
   ],
   "source": [
    "# Calculate Root Mean Squared Error\n",
    "mse = mean_squared_error(\n",
    "    results['Close'],\n",
    "    results['Predicted Close']\n",
    ")\n",
    "rmse = np.sqrt(mse)\n",
    "print(f\"Out-of-Sample Root Mean Squared Error (RMSE): {rmse}\")"
   ]
  },
  {
   "cell_type": "markdown",
   "metadata": {},
   "source": [
    "## MSFT"
   ]
  },
  {
   "cell_type": "code",
   "execution_count": 21,
   "metadata": {},
   "outputs": [],
   "source": [
    "# Set Features and Target\n",
    "X = msft_1Y.drop(columns=['Close'], axis=1).copy()\n",
    "y = msft_1Y['Close'].to_frame()"
   ]
  },
  {
   "cell_type": "code",
   "execution_count": 22,
   "metadata": {},
   "outputs": [],
   "source": [
    "# Split Into Train and Test\n",
    "X_train = X['2020-07-01':'2021-03-31'].copy()\n",
    "X_test = X['2021-04-01':'2021-06-30'].copy()\n",
    "y_train = y['2020-07-01':'2021-03-31'].copy()\n",
    "y_test = y['2021-04-01':'2021-06-30'].copy()"
   ]
  },
  {
   "cell_type": "code",
   "execution_count": 23,
   "metadata": {},
   "outputs": [],
   "source": [
    "# Create the MinMaxScaler instance\n",
    "scaler = MinMaxScaler()"
   ]
  },
  {
   "cell_type": "code",
   "execution_count": 24,
   "metadata": {},
   "outputs": [],
   "source": [
    "# Fit the Standard Scaler with the training data\n",
    "X_scaler = scaler.fit(X_train)"
   ]
  },
  {
   "cell_type": "code",
   "execution_count": 25,
   "metadata": {},
   "outputs": [],
   "source": [
    "# Scale the training and testing data\n",
    "X_train_scaled = X_scaler.transform(X_train)\n",
    "X_test_scaled = X_scaler.transform(X_test)"
   ]
  },
  {
   "cell_type": "code",
   "execution_count": 26,
   "metadata": {},
   "outputs": [],
   "source": [
    "# Initialize model, fit model to training data, create predictions for test features\n",
    "model = LinearRegression()\n",
    "model.fit(X_train_scaled, y_train)\n",
    "predictions = model.predict(X_test_scaled)"
   ]
  },
  {
   "cell_type": "code",
   "execution_count": 27,
   "metadata": {},
   "outputs": [
    {
     "data": {
      "text/plain": [
       "<AxesSubplot:title={'center':'MSFT'}, xlabel='Date'>"
      ]
     },
     "execution_count": 27,
     "metadata": {},
     "output_type": "execute_result"
    },
    {
     "data": {
      "image/png": "[encoded data removed]",
      "text/plain": [
       "<Figure size 432x288 with 1 Axes>"
      ]
     },
     "metadata": {
      "needs_background": "light"
     },
     "output_type": "display_data"
    }
   ],
   "source": [
    "# Plot Results\n",
    "results = y_test\n",
    "results['Predicted Close'] = predictions\n",
    "results.plot(title='MSFT')"
   ]
  },
  {
   "cell_type": "code",
   "execution_count": 28,
   "metadata": {},
   "outputs": [
    {
     "name": "stdout",
     "output_type": "stream",
     "text": [
      "Out-of-Sample Root Mean Squared Error (RMSE): 1.786302646588348\n"
     ]
    }
   ],
   "source": [
    "# Calculate Root Mean Squared Error\n",
    "mse = mean_squared_error(\n",
    "    results['Close'],\n",
    "    results['Predicted Close']\n",
    ")\n",
    "rmse = np.sqrt(mse)\n",
    "print(f\"Out-of-Sample Root Mean Squared Error (RMSE): {rmse}\")"
   ]
  },
  {
   "cell_type": "markdown",
   "metadata": {},
   "source": [
    "## AMZN"
   ]
  },
  {
   "cell_type": "code",
   "execution_count": 29,
   "metadata": {},
   "outputs": [],
   "source": [
    "# Set Features and Target\n",
    "X = amzn_1Y.drop(columns=['Close'], axis=1).copy()\n",
    "y = amzn_1Y['Close'].to_frame()"
   ]
  },
  {
   "cell_type": "code",
   "execution_count": 30,
   "metadata": {},
   "outputs": [],
   "source": [
    "# Split Into Train and Test\n",
    "X_train = X['2020-07-01':'2021-03-31'].copy()\n",
    "X_test = X['2021-04-01':'2021-06-30'].copy()\n",
    "y_train = y['2020-07-01':'2021-03-31'].copy()\n",
    "y_test = y['2021-04-01':'2021-06-30'].copy()"
   ]
  },
  {
   "cell_type": "code",
   "execution_count": 31,
   "metadata": {},
   "outputs": [],
   "source": [
    "# Create the MinMaxScaler instance\n",
    "scaler = MinMaxScaler()"
   ]
  },
  {
   "cell_type": "code",
   "execution_count": 32,
   "metadata": {},
   "outputs": [],
   "source": [
    "# Fit the Standard Scaler with the training data\n",
    "X_scaler = scaler.fit(X_train)"
   ]
  },
  {
   "cell_type": "code",
   "execution_count": 33,
   "metadata": {},
   "outputs": [],
   "source": [
    "# Scale the training and testing data\n",
    "X_train_scaled = X_scaler.transform(X_train)\n",
    "X_test_scaled = X_scaler.transform(X_test)"
   ]
  },
  {
   "cell_type": "code",
   "execution_count": 34,
   "metadata": {},
   "outputs": [],
   "source": [
    "# Initialize model, fit model to training data, create predictions for test features\n",
    "model = LinearRegression()\n",
    "model.fit(X_train_scaled, y_train)\n",
    "predictions = model.predict(X_test_scaled)"
   ]
  },
  {
   "cell_type": "code",
   "execution_count": 35,
   "metadata": {},
   "outputs": [
    {
     "data": {
      "text/plain": [
       "<AxesSubplot:title={'center':'AMZN'}, xlabel='Date'>"
      ]
     },
     "execution_count": 35,
     "metadata": {},
     "output_type": "execute_result"
    },
    {
     "data": {
      "image/png": "[encoded data removed]",
      "text/plain": [
       "<Figure size 432x288 with 1 Axes>"
      ]
     },
     "metadata": {
      "needs_background": "light"
     },
     "output_type": "display_data"
    }
   ],
   "source": [
    "# Plot Results\n",
    "results = y_test\n",
    "results['Predicted Close'] = predictions\n",
    "results.plot(title='AMZN')"
   ]
  },
  {
   "cell_type": "code",
   "execution_count": 36,
   "metadata": {},
   "outputs": [
    {
     "name": "stdout",
     "output_type": "stream",
     "text": [
      "Out-of-Sample Root Mean Squared Error (RMSE): 51.04333490186943\n"
     ]
    }
   ],
   "source": [
    "# Calculate Root Mean Squared Error\n",
    "mse = mean_squared_error(\n",
    "    results['Close'],\n",
    "    results['Predicted Close']\n",
    ")\n",
    "rmse = np.sqrt(mse)\n",
    "print(f\"Out-of-Sample Root Mean Squared Error (RMSE): {rmse}\")"
   ]
  },
  {
   "cell_type": "markdown",
   "metadata": {},
   "source": [
    "## UBER"
   ]
  },
  {
   "cell_type": "code",
   "execution_count": 45,
   "metadata": {},
   "outputs": [],
   "source": [
    "# Set Features and Target\n",
    "X = uber_1Y.drop(columns=['Close'], axis=1).copy()\n",
    "y = uber_1Y['Close'].to_frame()"
   ]
  },
  {
   "cell_type": "code",
   "execution_count": 46,
   "metadata": {},
   "outputs": [],
   "source": [
    "# Split Into Train and Test\n",
    "X_train = X['2020-07-01':'2021-03-31'].copy()\n",
    "X_test = X['2021-04-01':'2021-06-30'].copy()\n",
    "y_train = y['2020-07-01':'2021-03-31'].copy()\n",
    "y_test = y['2021-04-01':'2021-06-30'].copy()"
   ]
  },
  {
   "cell_type": "code",
   "execution_count": 47,
   "metadata": {},
   "outputs": [],
   "source": [
    "# Create the MinMaxScaler instance\n",
    "scaler = MinMaxScaler()"
   ]
  },
  {
   "cell_type": "code",
   "execution_count": 48,
   "metadata": {},
   "outputs": [],
   "source": [
    "# Fit the Standard Scaler with the training data\n",
    "X_scaler = scaler.fit(X_train)"
   ]
  },
  {
   "cell_type": "code",
   "execution_count": 49,
   "metadata": {},
   "outputs": [],
   "source": [
    "# Scale the training and testing data\n",
    "X_train_scaled = X_scaler.transform(X_train)\n",
    "X_test_scaled = X_scaler.transform(X_test)"
   ]
  },
  {
   "cell_type": "code",
   "execution_count": 50,
   "metadata": {},
   "outputs": [],
   "source": [
    "# Initialize model, fit model to training data, create predictions for test features\n",
    "model = LinearRegression()\n",
    "model.fit(X_train_scaled, y_train)\n",
    "predictions = model.predict(X_test_scaled)"
   ]
  },
  {
   "cell_type": "code",
   "execution_count": 51,
   "metadata": {},
   "outputs": [
    {
     "data": {
      "text/plain": [
       "<AxesSubplot:title={'center':'UBER'}, xlabel='Date'>"
      ]
     },
     "execution_count": 51,
     "metadata": {},
     "output_type": "execute_result"
    },
    {
     "data": {
      "image/png": "[encoded data removed]",
      "text/plain": [
       "<Figure size 432x288 with 1 Axes>"
      ]
     },
     "metadata": {
      "needs_background": "light"
     },
     "output_type": "display_data"
    }
   ],
   "source": [
    "# Plot Results\n",
    "results = y_test\n",
    "results['Predicted Close'] = predictions\n",
    "results.plot(title='UBER')"
   ]
  },
  {
   "cell_type": "code",
   "execution_count": 52,
   "metadata": {},
   "outputs": [
    {
     "name": "stdout",
     "output_type": "stream",
     "text": [
      "Out-of-Sample Root Mean Squared Error (RMSE): 1.1307410723734745\n"
     ]
    }
   ],
   "source": [
    "# Calculate Root Mean Squared Error\n",
    "mse = mean_squared_error(\n",
    "    results['Close'],\n",
    "    results['Predicted Close']\n",
    ")\n",
    "rmse = np.sqrt(mse)\n",
    "print(f\"Out-of-Sample Root Mean Squared Error (RMSE): {rmse}\")"
   ]
  },
  {
   "cell_type": "code",
   "execution_count": null,
   "metadata": {},
   "outputs": [],
   "source": []
  }
 ],
 "metadata": {
  "kernelspec": {
   "display_name": "Python 3",
   "language": "python",
   "name": "python3"
  },
  "language_info": {
   "codemirror_mode": {
    "name": "ipython",
    "version": 3
   },
   "file_extension": ".py",
   "mimetype": "text/x-python",
   "name": "python",
   "nbconvert_exporter": "python",
   "pygments_lexer": "ipython3",
   "version": "3.7.7"
  }
 },
 "nbformat": 4,
 "nbformat_minor": 4
}
