{
 "cells": [
  {
   "cell_type": "markdown",
   "metadata": {},
   "source": [
    "# **This is a notebook to analyze the effect of Wall Street Bets (WSB) sentiment on stock price **\n",
    "## Quick start. \n",
    "to just test notebook, run all\n",
    "experiment with what if go to Step 9. \n",
    "(note will add more descriptive info for the Basic Algo and What ifs)\n",
    "## You will need the following files in your directory\n",
    "<ol>\n",
    "<li>wsb_pushshift_data.csv</li>\n",
    "<li>test1.env\n",
    "</ol>\n",
    "\n",
    "## Basic Algorithm:\n",
    "<ol>\n",
    "<li>Read Data from CSV of WSB</li>\n",
    "<li>Read stock price Data from Alpaca</li>\n",
    "<li>Create dataframe for machine learning</li>\n",
    "<li>Run parmaeterized machine learning</li>\n",
    "</ol>\n",
    "\n",
    "## To do what ifs (Step 9):\n",
    "<ol>\n",
    "<li>you can analyze sentiments from different stocks</li>\n",
    "<li>run different machine learning models</li> \n",
    "</ol>"
   ]
  },
  {
   "cell_type": "markdown",
   "metadata": {},
   "source": [
    "## Step 1 Set up "
   ]
  },
  {
   "cell_type": "code",
   "execution_count": 1,
   "metadata": {},
   "outputs": [],
   "source": [
    "import os\n",
    "import re\n",
    "import nltk\n",
    "import pandas as pd\n",
    "import numpy as np\n",
    "import matplotlib.pyplot as plt\n",
    "import seaborn as sns\n",
    "import statsmodels.api as sm\n",
    "\n",
    "from datetime import date, datetime\n",
    "from sklearn import datasets, linear_model\n",
    "from sklearn.linear_model import LinearRegression\n",
    "from scipy import stats\n",
    "from nltk.corpus import stopwords\n",
    "from collections import Counter"
   ]
  },
  {
   "cell_type": "code",
   "execution_count": 2,
   "metadata": {},
   "outputs": [
    {
     "name": "stderr",
     "output_type": "stream",
     "text": [
      "[nltk_data] Downloading package vader_lexicon to\n",
      "[nltk_data]     C:\\Users\\big_j\\AppData\\Roaming\\nltk_data...\n",
      "[nltk_data]   Package vader_lexicon is already up-to-date!\n"
     ]
    },
    {
     "data": {
      "text/plain": [
       "True"
      ]
     },
     "execution_count": 2,
     "metadata": {},
     "output_type": "execute_result"
    }
   ],
   "source": [
    "# additional imports\n",
    "import re\n",
    "import nltk\n",
    "from nltk.sentiment.vader import SentimentIntensityAnalyzer\n",
    "import datetime\n",
    "import time\n",
    "from dotenv import load_dotenv\n",
    "import alpaca_trade_api as tradeapi\n",
    "# from datetime import date, datetime\n",
    "nltk.download('vader_lexicon')"
   ]
  },
  {
   "cell_type": "code",
   "execution_count": 3,
   "metadata": {},
   "outputs": [],
   "source": [
    "from sklearn.preprocessing import MinMaxScaler"
   ]
  },
  {
   "cell_type": "code",
   "execution_count": 4,
   "metadata": {},
   "outputs": [],
   "source": [
    "# Import required Keras modules\n",
    "from tensorflow.keras.models import Sequential\n",
    "from tensorflow.keras.layers import LSTM, Dense, Dropout"
   ]
  },
  {
   "cell_type": "code",
   "execution_count": 5,
   "metadata": {},
   "outputs": [],
   "source": [
    "from alpaca_trade_api.rest import TimeFrame"
   ]
  },
  {
   "cell_type": "code",
   "execution_count": 6,
   "metadata": {},
   "outputs": [],
   "source": [
    "def word_count(df):\n",
    "    \"\"\"\n",
    "    This function takes the dataframe and adds a new colun with the number of words.\n",
    "    :param df: The dataframe to be transformed.\n",
    "    :return: The transformed dataframe.\n",
    "    \"\"\"\n",
    "    words_count = []\n",
    "    for i, content in df['title'].items():\n",
    "        new_values =[]\n",
    "        new_values = content.split()\n",
    "        words_count.append(len(new_values))\n",
    "    df['title_word_count'] = words_count\n",
    "    return df\n"
   ]
  },
  {
   "cell_type": "markdown",
   "metadata": {},
   "source": [
    "#### 1.5 Clean Dataframe"
   ]
  },
  {
   "cell_type": "code",
   "execution_count": 7,
   "metadata": {},
   "outputs": [],
   "source": [
    "def clean_data(in_df):\n",
    "    '''\n",
    "    #clean data and return a \"standrd form\"\n",
    "    # input input data frame as describe above\n",
    "    # output: cleand data frame\n",
    "    '''\n",
    "    from datetime import date, datetime # get librareis\n",
    "    df = in_df.copy() # make a copy\n",
    "    #df = df.drop(columns=['id', 'url', 'created']) # drop unused columns remove v 3.8\n",
    "    \n",
    "    #add date and time\n",
    "    year_col = []\n",
    "    month_col = []\n",
    "    hour_col = []\n",
    "    minute_col = []\n",
    "    day_col = [] # v 1.6 add day colummn\n",
    "    date_col = [] #\n",
    "    for i, content in df['timestamp'].items():\n",
    "        t1 = datetime.strptime(content, '%Y-%m-%d %H:%M:%S')\n",
    "        year_col.append(t1.year)\n",
    "        month_col.append(t1.month)\n",
    "        hour_col.append(t1.hour)\n",
    "        minute_col.append(t1.minute)\n",
    "        day_col.append(t1.day) #v 1.6 add day column\n",
    "        date_col.append(t1.date())\n",
    "    df['year'] = year_col\n",
    "    df['month'] = month_col\n",
    "    df['hour'] = hour_col\n",
    "    df['minute'] = minute_col \n",
    "    df['day'] = day_col # v 1.6 add day col\n",
    "    df['date'] = date_col\n",
    "    \n",
    "    #Normalize the text to be lowercase\n",
    "    df['title'] = df['title'].str.lower()\n",
    "    df['body'] = df['body'].str.lower()\n",
    "    df.drop_duplicates(subset=['title'], keep='first', inplace=True)\n",
    "\n",
    "    #Count the number of characters and length of a title\n",
    "    df = word_count(df)\n",
    "    df['title_length'] = df['title'].str.len()\n",
    "    \n",
    "    #return value\n",
    "    return df"
   ]
  },
  {
   "cell_type": "markdown",
   "metadata": {},
   "source": [
    "## Step 2, Combine Title and Body (start of new code)"
   ]
  },
  {
   "cell_type": "markdown",
   "metadata": {},
   "source": [
    "#### 2.1 combine title and body in to one column"
   ]
  },
  {
   "cell_type": "code",
   "execution_count": 8,
   "metadata": {},
   "outputs": [],
   "source": [
    "def combine_columns(in_df, in_col1, in_col2):\n",
    "    '''\n",
    "    #combine two columns into one\n",
    "    #convert columns to text and concat\n",
    "    #input:\n",
    "    #in_df - datafraem\n",
    "    #in_col1 - name of column 1\n",
    "    #in_col2 - name of column 2\n",
    "    #return data_frame with extract column\n",
    "    '''\n",
    "#     # make a copy so original is not damanged and drop where there is no text in title or body\n",
    "\n",
    "    # convertitle and body to string and concaterante\n",
    "    new_df = in_df.copy()\n",
    "    new_df [in_col1 + '_' + in_col2] = in_df[in_col1].astype(str) + ' ' + in_df [in_col2].astype(str)\n",
    "    return new_df\n"
   ]
  },
  {
   "cell_type": "markdown",
   "metadata": {},
   "source": [
    "#### 2.2 routine to do count of ticker."
   ]
  },
  {
   "cell_type": "code",
   "execution_count": 9,
   "metadata": {},
   "outputs": [],
   "source": [
    "def find_comment_count(in_df, in_word_list, in_column): \n",
    "    '''\n",
    "    # purpose: finds count of words in a column and creates named coumns with counts\n",
    "    #inputs: \n",
    "    #in_df - input dataframe \n",
    "    #in_word_list list of words to find\n",
    "    #in_column the column in which the wordsare\n",
    "    #output:\n",
    "    #a copy of the original data with columns added for word count\n",
    "    '''\n",
    "    #code here\n",
    "    #put in error handler\n",
    "    try:\n",
    "        tmp_df = in_df.copy() #make a copy of the dataframe\n",
    "        tmp_df [in_column] = tmp_df [in_column].astype(str) # convrt to string\n",
    "        srch_word_list = [str(x) for x in in_word_list] #convert everthing words list to string\n",
    "        #wordList = re.sub(\"[^\\w]\", \" \",  mystr).split()\n",
    "        tmp_df[in_column + '_list'] = tmp_df[in_column].apply (lambda x: re.sub(\"[^\\w]\", \" \",  x).split()) # convert into a list of words\n",
    "        \n",
    "        # loop through list of words and create counts\n",
    "        for cur_word in srch_word_list:\n",
    "            # v 1.8 dont look at list,  look in original column with \n",
    "            #tmp_df [cur_word + '_count'] = tmp_df[in_column + '_list'].apply(lambda x: x.count(cur_word))\n",
    "            lower_word = cur_word.lower()# v 1.8\n",
    "            tmp_df [cur_word + '_count'] = tmp_df[in_column].apply(lambda x: x.count(lower_word)) # v 1.8\n",
    "        return tmp_df\n",
    "        \n",
    "    except:\n",
    "        #if eror then return null\n",
    "        return  \n",
    "        "
   ]
  },
  {
   "cell_type": "markdown",
   "metadata": {},
   "source": [
    "## Step 3 Get emotions from each combined message"
   ]
  },
  {
   "cell_type": "markdown",
   "metadata": {},
   "source": [
    "### 3.1 function to add vader emotion to each message"
   ]
  },
  {
   "cell_type": "code",
   "execution_count": 10,
   "metadata": {},
   "outputs": [],
   "source": [
    "# function to calculate vader sentiment\n",
    "def add_vader_compound(in_df, in_column, in_tick_mention, in_tick):\n",
    "    '''\n",
    "    #take and input column, add vader sentiment\n",
    "    # input:\n",
    "    # in_df  - put put df\n",
    "    # in_column - text for which \n",
    "    # in_tick_mention - number of times ticker \n",
    "    # in_tick - name for the ticke\n",
    "    #output:\n",
    "    #df with two addition coumnns\n",
    "    #additional col1 = in_column + '_sent' - sentiment for the in_column\n",
    "    #           cik2 = in_tick_sent - sentiment where ticker is mentioned\n",
    "    \n",
    "    \n",
    "    \n",
    "    # make sure nltk and vader is downloaded \n",
    "    # if not downloaded, uncomment and download\n",
    "    # Download/Update the VADER Lexicon\n",
    "    #nltk.download('vader_lexicon')\n",
    "    #from nltk.sentiment.vader import SentimentIntensityAnalyzer\n",
    "    # Initialize the VADER sentiment analyzer\n",
    "    # analyzer = SentimentIntensityAnalyzer()\n",
    "    '''\n",
    "    \n",
    "#     nltk.download('vader_lexicon')\n",
    "\n",
    "\n",
    "    try:\n",
    "        tmp_df = in_df.copy() #make a copy of the dataframe\n",
    "        tmp_df [in_column] = tmp_df [in_column].astype(str) # convrt to string\n",
    "        analyzer = SentimentIntensityAnalyzer() # set analyzer\n",
    "        #total sentiment\n",
    "        tot_sent = in_column + '_sent'\n",
    "        tmp_df[tot_sent] = tmp_df [in_column].apply (lambda x: analyzer.polarity_scores(x)['compound'])\n",
    "        #sentiment on ticker mention\n",
    "        tmp_df[in_tick + '_sent'] = tmp_df.apply(lambda x: x[in_tick_mention] if x[in_tick_mention] == 0 else x[tot_sent], axis = 1)\n",
    "            \n",
    "        return tmp_df\n",
    "        \n",
    "    except:\n",
    "         #if eror then return null\n",
    "         print ('error in add_vader_compound')\n",
    "         return \n",
    "    "
   ]
  },
  {
   "cell_type": "markdown",
   "metadata": {},
   "source": [
    "## Step 4 get stock price at that time"
   ]
  },
  {
   "cell_type": "code",
   "execution_count": 11,
   "metadata": {},
   "outputs": [],
   "source": [
    "def get_prices (in_tick, in_strt_date, in_end_date,in_timeframe, in_env_path):\n",
    "    '''\n",
    "    # return a dataframe with stock price info from Alpaca by the minute\n",
    "    # inputs:\n",
    "    # in_tick - string with ticker symbol\n",
    "    # in_start_date as a start date in format: beg_date = '2021-01-05'\n",
    "    # in_end_date in format: end_date = '2021-01-05'\n",
    "    # in_timeframe set as interval for stock price\n",
    "    # in_env_path path for enviornment file\n",
    "    # return:\n",
    "    # data frame with stock prices.\n",
    "    # To do - put output structure\n",
    "    '''\n",
    "    #note works for 1000 items. how to get longer times.\n",
    "    from alpaca_trade_api.rest import TimeFrame\n",
    "    try:\n",
    "        #load environment\n",
    "        load_dotenv(in_env_path)\n",
    "        \n",
    "        #get alpaka keys\n",
    "        alpaca_api_key = os.getenv(\"ALPACA_API_KEY\")\n",
    "        alpaca_secret_key = os.getenv(\"ALPACA_SECRET_KEY\")\n",
    "#         print (f'alpaca api {alpaca_api_key}\\n')\n",
    "#         print (f'alpaca secret {alpaca_secret_key}\\n')\n",
    "        #set up alpaca\n",
    "        api = tradeapi.REST(\n",
    "        alpaca_api_key,\n",
    "        alpaca_secret_key,\n",
    "        api_version = \"v2\"\n",
    "        )\n",
    "    \n",
    "        start =  pd.Timestamp(f'{in_strt_date} 09:30:00-0400', tz='America/New_York').replace(hour=9, minute=30, second=0).astimezone('GMT').isoformat()[:-6]+'Z'\n",
    "        end   =  pd.Timestamp(f'{in_end_date} 16:00:00-0400', tz='America/New_York').replace(hour=16, minute=0, second=0).astimezone('GMT').isoformat()[:-6]+'Z'\n",
    "#         print (f'start: {start}\\n')\n",
    "#         print (f'end: {end}\\n')\n",
    "#         prices = api.get_barset(in_tick, TimeFrame.Hours,limit=1000, start=start, end=end).df\n",
    "        prices = api.get_barset(in_tick, in_timeframe,limit=1000, start=start, end=end).df\n",
    "        \n",
    "        #add date colum\n",
    "        prices['date'] = prices.index.map(lambda x: x.date())\n",
    "        \n",
    "        return prices\n",
    "\n",
    "    except:\n",
    "        return null"
   ]
  },
  {
   "cell_type": "markdown",
   "metadata": {},
   "source": [
    "## Step 5 combine price with data and emotion\n",
    "\n"
   ]
  },
  {
   "cell_type": "code",
   "execution_count": 12,
   "metadata": {},
   "outputs": [],
   "source": [
    "def comb_sent_mention(in_df, in_tick, in_timeframe,in_start_date, in_end_date, in_env_file, in_col1, in_col2 ):\n",
    "    '''\n",
    "    #creates a combined data frame for a from data struct\n",
    "    # input:\n",
    "    # in_df = input data frame\n",
    "    # in_tick =  ticker symbo\n",
    "    # in_timeframe = suggest '1D'\n",
    "    # in_start_date = in the form'2021-01-28'\n",
    "    # in_end_date = in the form '2021-01-28'\n",
    "    # in_env_file = in this case'test1.env' \n",
    "    # in_col1 = in this case 'title'\n",
    "    # in_col2 = in this case 'body'   \n",
    "    # output:\n",
    "    # combined dta frame\n",
    "    '''\n",
    "#     price_df = get_prices(in_tick, in_start_date, in_end_date, in_timeframe,in_env_file) # get price from alpaa - not used here..\n",
    "    df_clean = clean_data(in_df) # clean it up\n",
    "    df = combine_columns(df_clean, in_col1, in_col2) # combine title and body\n",
    "    comb_col_title = in_col1 + '_' + in_col2 # combine the column titles\n",
    "    df = find_comment_count(df, [in_tick], comb_col_title) # find number of mentions \n",
    "    df = add_vader_compound(df, comb_col_title, in_tick + '_count', in_tick) # add emotion 2.5 updated\n",
    "# test1_df = add_vader_compound(test_df, 'title_body', in_tick + '_count',in_tick)    \n",
    "    #v 2.4 make column that is sentiment only if ticker is mentioend.\n",
    "    # ticker _ count\n",
    "    # title_body_sent\n",
    "    # \n",
    "    #sum sentiment and count by day - future fix add variable length\n",
    "    \n",
    "    grpby_cols = ['year', 'month', 'day']\n",
    "    sum_by_cols = [in_tick + '_count', comb_col_title + '_sent', in_tick + '_sent' ] # 2.5; summarize all ticker sentimetn\n",
    "    \n",
    "    tmp_df = df.groupby(grpby_cols)[sum_by_cols].sum().add_suffix('_sum')\n",
    "    df = df.join (tmp_df, on = grpby_cols)\n",
    "    \n",
    "    return df\n",
    "    \n",
    "    "
   ]
  },
  {
   "cell_type": "markdown",
   "metadata": {},
   "source": [
    "## Step 6 combine with daily price of stock."
   ]
  },
  {
   "cell_type": "code",
   "execution_count": 13,
   "metadata": {},
   "outputs": [],
   "source": [
    "def create_price_sent(in_sent_df, in_price_df, in_tick):\n",
    "    '''\n",
    "    #create a combined dataframe for input in to Machine Learning\n",
    "    # input: \n",
    "    # in_df sentiment: datafraem\n",
    "    # in_price_df;\n",
    "    # in_tick: ticker symbol\n",
    "    # output data frame with columsn\n",
    "    # column names \n",
    "    # mentions: number of mentions\n",
    "    # sentiemnt: overall sentiment for day\n",
    "    # ticker_sent: sentiment for ticker\n",
    "    '''\n",
    "    #Step add additional info to incoming datafraem\n",
    "    in_tick_count = in_tick + '_count_sum' # a sum of the counts\n",
    "    in_tick_sent_sum = in_tick + '_sent_sum' # a sum of sentiment\n",
    "    senti_df = in_sent_df[['date', in_tick_count, 'title_body_sent_sum', in_tick_sent_sum]].copy()\n",
    "    senti_df.drop_duplicates(inplace = True)\n",
    "    senti_df.rename (columns = {'GME_count_sum': 'mentions', 'title_body_sent_sum': 'sentiment', in_tick_sent_sum: 'ticker_sent' }, inplace = True)\n",
    "    senti_df.set_index('date', inplace = True)\n",
    "    \n",
    "    #clean the price dataframe\n",
    "    tmp_price_df = in_price_df [in_tick].copy()\n",
    "#     print (in_tick) #debug\n",
    "#     print(tmp_price_df.head(2)) #debug\n",
    "    tmp_price_df['date'] = tmp_price_df.index.map(lambda x: x.date())\n",
    "    tmp_price_df.reset_index(inplace = True)\n",
    "    tmp_price_df.drop (columns = ['time', 'open', 'high', 'low'], inplace = True)\n",
    "    tmp_price_df.set_index('date', inplace = True) \n",
    "    \n",
    "    comb_df = tmp_price_df.join (senti_df, how = 'left', on = 'date') #combine the dataframes\n",
    "    #joint them and return it\n",
    "    zero_rng = .01 # rane for zero\n",
    "    comb_df ['pct_ch'] = comb_df['close'].pct_change()\n",
    "    comb_df['up_neu_dn'] = comb_df ['pct_ch'].apply (lambda x: -1 if x < -zero_rng else 1 if x > zero_rng else 0)\n",
    "    comb_df.dropna(inplace = True)    \n",
    "    \n",
    "#     comb_df = tmp_price_df.join (senti_df, how = 'left', on = 'date')\n",
    "    return comb_df"
   ]
  },
  {
   "cell_type": "markdown",
   "metadata": {},
   "source": [
    "### 7.1 Fetch Data function"
   ]
  },
  {
   "cell_type": "code",
   "execution_count": 14,
   "metadata": {},
   "outputs": [],
   "source": [
    "def fetch_data (in_tick, in_start_date, in_end_date):\n",
    "    '''\n",
    "    #create a dataframe that:\n",
    "    #has sentiment from redit wsb\n",
    "    #price data from Alpaca\n",
    "    #input: \n",
    "    # in_tick : ticker symbo\n",
    "    # start_date in form: yyyy-mm-dd\n",
    "    # end_date in form: yyyy-mm-dd\n",
    "    #create output data from with folloiwn columsn\n",
    "    #date: index close: closing price volume:trading volume mentions: number of times ticker is mentioned \n",
    "    #sentiment: sentiment that day ticker_sent: sentiment of the ticker pct_ch: daily price percent chagne up_neu_dn: is price up down or netural\n",
    "    # \n",
    "    \n",
    "    #read data file\n",
    "    #read alpaca file\n",
    "    #combination process.\n",
    "    '''\n",
    "#     data_df  = pd.read_csv('./reddit_wsb.csv') #read file\n",
    "    data_df  = pd.read_csv('./wsb_pushshift_data.csv')\n",
    "    sent_df = comb_sent_mention(data_df, in_tick, '1D', in_start_date,in_end_date , 'test1.env' ,  'title', 'body') #create sentiment file\n",
    "    price_df =  get_prices(in_tick, in_start_date, in_end_date, '1D','test1.env' ) # read prices from alpaca\n",
    "    ml_df = create_price_sent(sent_df, price_df, in_tick) #create ml data frame\n",
    "    ml_df.to_csv('ml_' + in_tick + '.csv')\n",
    "    \n",
    "    return ml_df"
   ]
  },
  {
   "cell_type": "code",
   "execution_count": 15,
   "metadata": {},
   "outputs": [],
   "source": [
    "# to delete\n",
    "# # sent_df.head(2)\n",
    "# ml_df.head(2)"
   ]
  },
  {
   "cell_type": "markdown",
   "metadata": {},
   "source": [
    "## Step 8 Start ML part"
   ]
  },
  {
   "cell_type": "markdown",
   "metadata": {},
   "source": [
    "### 8.1 Function to Prep Data"
   ]
  },
  {
   "cell_type": "code",
   "execution_count": 16,
   "metadata": {},
   "outputs": [],
   "source": [
    "def window_data(df, window, feature_col_number, target_col_number):\n",
    "    \"\"\"\n",
    "    This function accepts the column number for the features (X) and the target (y).\n",
    "    It chunks the data up with a rolling window of Xt - window to predict Xt.\n",
    "    It returns two numpy arrays of X and y.\n",
    "    \"\"\"\n",
    "    X = []\n",
    "    y = []\n",
    "    for i in range(len(df) - window):\n",
    "        features = df.iloc[i : (i + window), feature_col_number]\n",
    "        target = df.iloc[(i + window), target_col_number]\n",
    "        X.append(features)\n",
    "        y.append(target)\n",
    "    return np.array(X), np.array(y).reshape(-1, 1)"
   ]
  },
  {
   "cell_type": "markdown",
   "metadata": {},
   "source": [
    "### 8.2 LSTM ML Function"
   ]
  },
  {
   "cell_type": "code",
   "execution_count": 17,
   "metadata": {},
   "outputs": [],
   "source": [
    "def run_lstm(in_df, in_feat_name, in_targ_name = 'pct_ch', in_savefname = 'out.png', in_title= 'Title'):\n",
    "    '''\n",
    "    #run lstm\n",
    "    #input: \n",
    "    #in_df: from create_price_sent\n",
    "    #in_feat_name: name of the feature\n",
    "    #in_targ_name: name of target column\n",
    "    #in_savefname: name of file to be saved xx.png\n",
    "    # ouput\n",
    "    # lstm results\n",
    "    '''\n",
    "    \n",
    "    #get paramters for data set\n",
    "    try:\n",
    "       feat_col = in_df.columns.get_loc(in_feat_name)\n",
    "       targ_col = in_df.columns.get_loc(in_targ_name)\n",
    "    except:\n",
    "        print ('invalid column name')\n",
    "        return\n",
    "    \n",
    "    #create dataset\n",
    "    win_size = 5 #to paramterize\n",
    "    #feat_col = 4 #to paramterize # v 4.0\n",
    "    #targ_col = 6#to paramterize v 4.0\n",
    "    X, y =  window_data(in_df, win_size, feat_col, targ_col)\n",
    "    \n",
    "    # Use 70% of the data for training and the remainder for testing\n",
    "    split = int(0.7 * len(X)) #parameterize\n",
    "    X_train = X[: split]\n",
    "    X_test = X[split:]\n",
    "    y_train = y[: split]\n",
    "    y_test = y[split:]    \n",
    "    \n",
    "    # Use the MinMaxScaler to scale data between 0 and 1.\n",
    "    from sklearn.preprocessing import MinMaxScaler # put initintialization\n",
    "    scaler = MinMaxScaler()\n",
    "    scaler.fit(X)\n",
    "    X_train = scaler.transform(X_train)\n",
    "    X_test = scaler.transform(X_test)\n",
    "    scaler.fit(y)\n",
    "    y_train = scaler.transform(y_train)\n",
    "    y_test = scaler.transform(y_test)\n",
    "    \n",
    "    # Reshape the features for the model\n",
    "    X_train = X_train.reshape((X_train.shape[0], X_train.shape[1], 1))\n",
    "    X_test = X_test.reshape((X_test.shape[0], X_test.shape[1], 1))\n",
    "    \n",
    "    # Define the LSTM RNN model.\n",
    "    model = Sequential()\n",
    "\n",
    "    number_units = 5\n",
    "    dropout_fraction = 0.2\n",
    "\n",
    "    # Layer 1\n",
    "    model.add(LSTM(\n",
    "        units=number_units,\n",
    "        return_sequences=True,\n",
    "        input_shape=(X_train.shape[1], 1))\n",
    "        )\n",
    "    model.add(Dropout(dropout_fraction))\n",
    "    # Layer 2\n",
    "    model.add(LSTM(units=number_units, return_sequences=True))\n",
    "    model.add(Dropout(dropout_fraction))\n",
    "    # Layer 3\n",
    "    model.add(LSTM(units=number_units))\n",
    "    model.add(Dropout(dropout_fraction))\n",
    "    # Output layer\n",
    "    model.add(Dense(1))\n",
    "    \n",
    "    # Compile the model\n",
    "    model.compile(optimizer=\"adam\", loss=\"mean_squared_error\")\n",
    "    \n",
    "    #fit the model\n",
    "    model.fit(X_train, y_train, epochs=10, shuffle=False, batch_size=1, verbose=1)\n",
    "    \n",
    "    # Evaluate the model\n",
    "    eval = model.evaluate(X_test, y_test)\n",
    "    print (f'\\nModel loss = {eval}\\n')\n",
    "    \n",
    "    # Make some predictions\n",
    "    predicted = model.predict(X_test)\n",
    "    \n",
    "    # Recover the original prices instead of the scaled version\n",
    "    predicted_prices = scaler.inverse_transform(predicted)\n",
    "    real_prices = scaler.inverse_transform(y_test.reshape(-1, 1))\n",
    "    \n",
    "    # Create a DataFrame of Real and Predicted values\n",
    "    stocks = pd.DataFrame({\n",
    "        \"Real\": real_prices.ravel(),\n",
    "        \"Predicted\": predicted_prices.ravel()\n",
    "        }, index = in_df.index[-len(real_prices): ])\n",
    "    stocks.head()\n",
    "    \n",
    "    # Plot the real vs predicted prices as a line chart\n",
    "    \n",
    "    plot = stocks.plot(figsize = (10, 5), title = in_title)\n",
    "    fig = plot.get_figure()\n",
    "    fig.savefig(in_savefname)\n",
    "    return eval"
   ]
  },
  {
   "cell_type": "markdown",
   "metadata": {},
   "source": [
    "# Step 9.0 Main\n",
    "## Start with 9.1\n",
    "## Run 9.2 to import data. you can v\n",
    "## Run 9.3 to to run Single LSTM\n",
    "## Run 9.4 to run batch LSTM"
   ]
  },
  {
   "cell_type": "markdown",
   "metadata": {},
   "source": [
    "## 9.1 Run all cells above this to initiizlize\n"
   ]
  },
  {
   "cell_type": "markdown",
   "metadata": {},
   "source": [
    "## 9.2 Fetch data with stock with start and end date\n",
    "Change it to fetch different stock or range"
   ]
  },
  {
   "cell_type": "code",
   "execution_count": 18,
   "metadata": {},
   "outputs": [],
   "source": [
    "ml_df = fetch_data ('GME', '2021-01-28', '2021-06-28' )"
   ]
  },
  {
   "cell_type": "markdown",
   "metadata": {},
   "source": [
    "## 9.3 run LSTM the cell below if you want run one LSTM"
   ]
  },
  {
   "cell_type": "code",
   "execution_count": 19,
   "metadata": {},
   "outputs": [],
   "source": [
    "# select X and y from this list of string\n",
    "# ['close', 'volume', ticke + '_count_sum', 'sentiment', 'ticker_sent', 'pct_ch', 'up_neu_dn']\n",
    "# for testing\n",
    "# run_lstm(ml_df, 'AAPL_count_sum', 'pct_ch', 'aapl_pct_chg_mention', 'Apple % by Mention') "
   ]
  },
  {
   "cell_type": "markdown",
   "metadata": {},
   "source": [
    "## 9.4 batch run of getting a set of outputs"
   ]
  },
  {
   "cell_type": "code",
   "execution_count": 20,
   "metadata": {},
   "outputs": [],
   "source": [
    "# set up... \n",
    "feat_tmplt = [ 'sentiment','ticker_sent']\n",
    "tick_list = ['AAPL','GME']\n",
    "targ_list = ['pct_ch', 'up_neu_dn']\n",
    "count_sufx = '_count_sum'\n",
    "tick_num = 1 #select GME. \n",
    "cur_tick = tick_list[tick_num] #select GME\n",
    "feat_list = [cur_tick + count_sufx] + feat_tmplt\n",
    "col_names = ['Ticker', 'Target', 'Feature', 'Loss']\n",
    "result_df = pd.DataFrame(columns = col_names)\n",
    "# targ_num  = 0\n",
    "# cur_targ = targ_list[targ_num]\n",
    "# file_name_prfx = cur_tick + '_' + cur_targ"
   ]
  },
  {
   "cell_type": "code",
   "execution_count": 21,
   "metadata": {},
   "outputs": [],
   "source": [
    "# rum only if you want new data - takes a looooooooooooong time\n",
    "# ml_df = fetch_data (cur_tick, '2021-01-28', '2021-06-28' )"
   ]
  },
  {
   "cell_type": "code",
   "execution_count": 22,
   "metadata": {},
   "outputs": [
    {
     "name": "stdout",
     "output_type": "stream",
     "text": [
      "invalid column name\n",
      "Epoch 1/10\n",
      "39/39 [==============================] - 4s 3ms/step - loss: 0.2920\n",
      "Epoch 2/10\n",
      "39/39 [==============================] - 0s 3ms/step - loss: 0.0884\n",
      "Epoch 3/10\n",
      "39/39 [==============================] - 0s 3ms/step - loss: 0.0513\n",
      "Epoch 4/10\n",
      "39/39 [==============================] - 0s 3ms/step - loss: 0.0508\n",
      "Epoch 5/10\n",
      "39/39 [==============================] - 0s 3ms/step - loss: 0.0558\n",
      "Epoch 6/10\n",
      "39/39 [==============================] - 0s 3ms/step - loss: 0.0457\n",
      "Epoch 7/10\n",
      "39/39 [==============================] - 0s 2ms/step - loss: 0.0732\n",
      "Epoch 8/10\n",
      "39/39 [==============================] - 0s 3ms/step - loss: 0.0569\n",
      "Epoch 9/10\n",
      "39/39 [==============================] - 0s 3ms/step - loss: 0.0525\n",
      "Epoch 10/10\n",
      "39/39 [==============================] - 0s 2ms/step - loss: 0.0432\n",
      "1/1 [==============================] - 1s 941ms/step - loss: 0.0440\n",
      "\n",
      "Model loss = 0.0440359003841877\n",
      "\n",
      "Epoch 1/10\n",
      "39/39 [==============================] - 4s 3ms/step - loss: 0.3085\n",
      "Epoch 2/10\n",
      "39/39 [==============================] - 0s 3ms/step - loss: 0.0936\n",
      "Epoch 3/10\n",
      "39/39 [==============================] - 0s 3ms/step - loss: 0.0674\n",
      "Epoch 4/10\n",
      "39/39 [==============================] - 0s 3ms/step - loss: 0.0416\n",
      "Epoch 5/10\n",
      "39/39 [==============================] - 0s 2ms/step - loss: 0.0441\n",
      "Epoch 6/10\n",
      "39/39 [==============================] - 0s 7ms/step - loss: 0.0414\n",
      "Epoch 7/10\n",
      "39/39 [==============================] - 0s 4ms/step - loss: 0.0546\n",
      "Epoch 8/10\n",
      "39/39 [==============================] - 0s 3ms/step - loss: 0.0751\n",
      "Epoch 9/10\n",
      "39/39 [==============================] - 0s 3ms/step - loss: 0.0491\n",
      "Epoch 10/10\n",
      "39/39 [==============================] - 0s 3ms/step - loss: 0.0389\n",
      "1/1 [==============================] - 1s 921ms/step - loss: 0.0446\n",
      "\n",
      "Model loss = 0.044623300433158875\n",
      "\n",
      "invalid column name\n",
      "Epoch 1/10\n",
      "39/39 [==============================] - 4s 2ms/step - loss: 0.3682\n",
      "Epoch 2/10\n",
      "39/39 [==============================] - 0s 3ms/step - loss: 0.2802\n",
      "Epoch 3/10\n",
      "39/39 [==============================] - 0s 2ms/step - loss: 0.2125\n",
      "Epoch 4/10\n",
      "39/39 [==============================] - 0s 2ms/step - loss: 0.1892\n",
      "Epoch 5/10\n",
      "39/39 [==============================] - 0s 2ms/step - loss: 0.2020\n",
      "Epoch 6/10\n",
      "39/39 [==============================] - 0s 2ms/step - loss: 0.2122\n",
      "Epoch 7/10\n",
      "39/39 [==============================] - 0s 2ms/step - loss: 0.2017\n",
      "Epoch 8/10\n",
      "39/39 [==============================] - 0s 3ms/step - loss: 0.1847\n",
      "Epoch 9/10\n",
      "39/39 [==============================] - 0s 2ms/step - loss: 0.2180\n",
      "Epoch 10/10\n",
      "39/39 [==============================] - 0s 2ms/step - loss: 0.1984\n",
      "1/1 [==============================] - 1s 1s/step - loss: 0.1861\n",
      "\n",
      "Model loss = 0.18612974882125854\n",
      "\n",
      "Epoch 1/10\n",
      "39/39 [==============================] - 4s 3ms/step - loss: 0.3632\n",
      "Epoch 2/10\n",
      "39/39 [==============================] - 0s 3ms/step - loss: 0.2592\n",
      "Epoch 3/10\n",
      "39/39 [==============================] - 0s 3ms/step - loss: 0.1868\n",
      "Epoch 4/10\n",
      "39/39 [==============================] - 0s 3ms/step - loss: 0.1729\n",
      "Epoch 5/10\n",
      "39/39 [==============================] - 0s 3ms/step - loss: 0.2093\n",
      "Epoch 6/10\n",
      "39/39 [==============================] - 0s 3ms/step - loss: 0.2011\n",
      "Epoch 7/10\n",
      "39/39 [==============================] - 0s 3ms/step - loss: 0.1753\n",
      "Epoch 8/10\n",
      "39/39 [==============================] - 0s 4ms/step - loss: 0.1900\n",
      "Epoch 9/10\n",
      "39/39 [==============================] - 0s 4ms/step - loss: 0.1958\n",
      "Epoch 10/10\n",
      "39/39 [==============================] - 0s 4ms/step - loss: 0.1760\n",
      "1/1 [==============================] - 1s 1s/step - loss: 0.1877\n",
      "\n",
      "Model loss = 0.18767620623111725\n",
      "\n"
     ]
    },
    {
     "data": {
      "image/png": "[encoded data removed]",
      "text/plain": [
       "<Figure size 720x360 with 1 Axes>"
      ]
     },
     "metadata": {
      "needs_background": "light"
     },
     "output_type": "display_data"
    },
    {
     "data": {
      "image/png": "[encoded data removed]",
      "text/plain": [
       "<Figure size 720x360 with 1 Axes>"
      ]
     },
     "metadata": {
      "needs_background": "light"
     },
     "output_type": "display_data"
    },
    {
     "data": {
      "image/png": "[encoded data removed]",
      "text/plain": [
       "<Figure size 720x360 with 1 Axes>"
      ]
     },
     "metadata": {
      "needs_background": "light"
     },
     "output_type": "display_data"
    },
    {
     "data": {
      "image/png": "[encoded data removed]",
      "text/plain": [
       "<Figure size 720x360 with 1 Axes>"
      ]
     },
     "metadata": {
      "needs_background": "light"
     },
     "output_type": "display_data"
    }
   ],
   "source": [
    "for cur_targ in targ_list:\n",
    "#         feat_list = [cur_tick + count_sufx] + feat_tmplt # feature list based on ticker\n",
    "    for cur_feat in feat_list:\n",
    "        title = 'Tick: ' + cur_tick + 'Targ: ' + cur_targ  + 'Feat: ' + cur_feat\n",
    "        fname = cur_tick + '_' + cur_targ  + '_' + cur_feat + 'png'\n",
    "        cur_loss = run_lstm(ml_df, cur_feat, cur_targ, fname , title)\n",
    "        result_df.loc[len(result_df.index)] = [cur_tick, cur_targ, cur_feat, cur_loss]\n",
    "        \n",
    "csv_fname = cur_tick + '_rslt.csv'\n",
    "result_df.to_csv(csv_fname)"
   ]
  },
  {
   "cell_type": "code",
   "execution_count": null,
   "metadata": {},
   "outputs": [],
   "source": []
  }
 ],
 "metadata": {
  "kernelspec": {
   "display_name": "Python 3",
   "language": "python",
   "name": "python3"
  },
  "language_info": {
   "codemirror_mode": {
    "name": "ipython",
    "version": 3
   },
   "file_extension": ".py",
   "mimetype": "text/x-python",
   "name": "python",
   "nbconvert_exporter": "python",
   "pygments_lexer": "ipython3",
   "version": "3.8.5"
  }
 },
 "nbformat": 4,
 "nbformat_minor": 4
}
